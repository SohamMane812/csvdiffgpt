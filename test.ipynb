{
 "cells": [
  {
   "cell_type": "code",
   "execution_count": 6,
   "metadata": {},
   "outputs": [],
   "source": [
    "from csvdiffgpt import summarize\n",
    "from csvdiffgpt import compare\n",
    "from dotenv import load_dotenv\n",
    "import os"
   ]
  },
  {
   "cell_type": "code",
   "execution_count": 7,
   "metadata": {},
   "outputs": [],
   "source": [
    "API_KEY = os.getenv(\"GEMINI_API_KEY\")"
   ]
  },
  {
   "cell_type": "code",
   "execution_count": 16,
   "metadata": {},
   "outputs": [
    {
     "name": "stdout",
     "output_type": "stream",
     "text": [
      "Okay, let's analyze the differences between the two baseball datasets.\n",
      "\n",
      "**1. Overview**\n",
      "\n",
      "Both datasets contain baseball player statistics. The first dataset has 771 rows and 16 columns, while the second has 809 rows and 17 columns. The key difference is the addition of an 'AVG' column in the second dataset and an increase in the number of rows.\n",
      "\n",
      "**2. Structure Changes**\n",
      "\n",
      "*   **Added Column:** The second dataset includes a new column named 'AVG' (Batting Average), which is of float64 type.\n",
      "*   **Row Count:** The second dataset has 38 more rows than the first (809 vs. 771), representing a 4.93% increase.\n",
      "\n",
      "**3. Content Changes**\n",
      "\n",
      "*   The values in the common columns ('G', 'Age', 'BB', 'AB', 'H', 'RBI', '3B', '2B', 'CS', 'R', 'SB', 'SO', 'HR', 'PA') have not changed.\n",
      "\n",
      "**4. Statistical Changes**\n",
      "\n",
      "*   The mean of column 'G' changed from 66.2 to 66.44.\n",
      "*   The mean of column 'PA' changed from 208.64 to 209.83.\n",
      "*   The mean of column 'AB' changed from 185.61 to 186.7.\n",
      "*   The mean of column 'R' changed from 24.05 to 24.22.\n",
      "*   The mean of column 'H' changed from 47.83 to 48.23.\n",
      "*   The mean of column '2B' changed from 8.44 to 8.52.\n",
      "*   The mean of column 'HR' changed from 4.95 to 5.01.\n",
      "*   The mean of column 'RBI' changed from 22.56 to 22.76.\n",
      "*   The mean of column 'SB' changed from 4.3 to 4.21.\n",
      "*   The mean of column 'CS' changed from 2.1 to 2.09.\n",
      "*   The mean of column 'BB' changed from 18.45 to 18.49.\n",
      "*   The mean of column 'SO' changed from 32.04 to 32.11.\n",
      "*   The distribution of values in column '3B' changed slightly.\n",
      "\n",
      "**5. Recommendations**\n",
      "\n",
      "*   The addition of the 'AVG' column in the second dataset is a significant enhancement, providing a key performance indicator directly in the data.\n",
      "*   The increase in row count suggests that more player data has been included in the updated dataset.\n",
      "*   The changes in the means of the columns are very small, so they are probably not significant.\n",
      "\n"
     ]
    }
   ],
   "source": [
    "result = compare(\n",
    "    file1=\"./baseball.csv\",\n",
    "    file2=\"./baseball2.csv\",\n",
    "    question=\"What changed between these versions?\",\n",
    "    api_key=API_KEY,\n",
    "    provider=\"gemini\",\n",
    "    model='gemini-2.0-flash'\n",
    ")\n",
    "print(result)"
   ]
  },
  {
   "cell_type": "code",
   "execution_count": 9,
   "metadata": {},
   "outputs": [
    {
     "name": "stdout",
     "output_type": "stream",
     "text": [
      "{'file1': {'path': './baseball.csv', 'row_count': 771, 'column_count': 16, 'metadata': {'file_path': './baseball.csv', 'file_size_mb': 0.04, 'separator': ',', 'total_rows': 771, 'total_columns': 16, 'analyzed_rows': 771, 'analyzed_columns': 16, 'columns': {'Last': {'type': 'object', 'nulls': 0, 'null_percentage': np.float64(0.0), 'unique_count': 657, 'min_length': 3, 'max_length': 14, 'avg_length': 6.52, 'examples': ['Lansford', 'Lowry', 'Beckwith', 'Mullins', 'Valle']}, 'First': {'type': 'object', 'nulls': 0, 'null_percentage': np.float64(0.0), 'unique_count': 273, 'min_length': 1, 'max_length': 9, 'avg_length': 4.35, 'examples': ['Keith', 'Jay', 'Rafael', 'Tom', 'Rick']}, 'Age': {'type': 'int64', 'nulls': 0, 'null_percentage': np.float64(0.0), 'unique_count': 24, 'min': np.int64(20), 'max': np.int64(45), 'mean': 27.98, 'median': 27.0, 'std': 4.37, 'examples': [22, 32, 26, 21, 37]}, 'G': {'type': 'int64', 'nulls': 0, 'null_percentage': np.float64(0.0), 'unique_count': 160, 'min': np.int64(1), 'max': np.int64(163), 'mean': 66.2, 'median': 56.0, 'std': 52.16, 'examples': [138, 1, 117, 144, 107]}, 'PA': {'type': 'int64', 'nulls': 0, 'null_percentage': np.float64(0.0), 'unique_count': 373, 'min': np.int64(0), 'max': np.int64(742), 'mean': 208.64, 'median': 101.0, 'std': 224.02, 'examples': [158, 308, 641, 14, 237]}, 'AB': {'type': 'int64', 'nulls': 0, 'null_percentage': np.float64(0.0), 'unique_count': 365, 'min': np.int64(0), 'max': np.int64(687), 'mean': 185.61, 'median': 90.0, 'std': 199.51, 'examples': [20, 510, 0, 217, 23]}, 'R': {'type': 'int64', 'nulls': 0, 'null_percentage': np.float64(0.0), 'unique_count': 103, 'min': np.int64(0), 'max': np.int64(130), 'mean': 24.05, 'median': 9.0, 'std': 29.16, 'examples': [48, 0, 48, 1, 26]}, 'H': {'type': 'int64', 'nulls': 0, 'null_percentage': np.float64(0.0), 'unique_count': 169, 'min': np.int64(0), 'max': np.int64(238), 'mean': 47.83, 'median': 19.0, 'std': 55.67, 'examples': [0, 2, 101, 0, 45]}, '2B': {'type': 'int64', 'nulls': 0, 'null_percentage': np.float64(0.0), 'unique_count': 44, 'min': np.int64(0), 'max': np.int64(53), 'mean': 8.44, 'median': 3.0, 'std': 10.46, 'examples': [19, 1, 5, 4, 27]}, '3B': {'type': 'int64', 'nulls': 0, 'null_percentage': np.float64(0.0), 'unique_count': 14, 'min': np.int64(0), 'max': np.int64(14), 'mean': 1.11, 'median': 0.0, 'std': 1.93, 'examples': [1, 0, 7, 1, 2], 'value_distribution': {'0': 60.57, '1': 13.88, '2': 8.56, '3': 5.97, '4': 4.15, '5': 2.33, '6': 1.82, '7': 1.69, '9': 0.26, '10': 0.26}}, 'HR': {'type': 'int64', 'nulls': 0, 'null_percentage': np.float64(0.0), 'unique_count': 37, 'min': np.int64(0), 'max': np.int64(40), 'mean': 4.95, 'median': 1.0, 'std': 7.72, 'examples': [2, 0, 0, 0, 0]}, 'RBI': {'type': 'int64', 'nulls': 0, 'null_percentage': np.float64(0.0), 'unique_count': 108, 'min': np.int64(0), 'max': np.int64(121), 'mean': 22.56, 'median': 8.0, 'std': 28.29, 'examples': [1, 36, 0, 0, 55]}, 'SB': {'type': 'int64', 'nulls': 0, 'null_percentage': np.float64(0.0), 'unique_count': 46, 'min': np.int64(0), 'max': np.int64(107), 'mean': 4.3, 'median': 0.0, 'std': 9.87, 'examples': [2, 4, 0, 5, 1]}, 'CS': {'type': 'int64', 'nulls': 0, 'null_percentage': np.float64(0.0), 'unique_count': 20, 'min': np.int64(0), 'max': np.int64(19), 'mean': 2.1, 'median': 0.0, 'std': 3.52, 'examples': [0, 2, 0, 1, 0]}, 'BB': {'type': 'int64', 'nulls': 0, 'null_percentage': np.float64(0.0), 'unique_count': 92, 'min': np.int64(0), 'max': np.int64(105), 'mean': 18.45, 'median': 7.0, 'std': 23.02, 'examples': [0, 0, 0, 3, 5]}, 'SO': {'type': 'int64', 'nulls': 0, 'null_percentage': np.float64(0.0), 'unique_count': 126, 'min': np.int64(0), 'max': np.int64(185), 'mean': 32.04, 'median': 20.0, 'std': 34.59, 'examples': [4, 5, 4, 0, 21]}}, 'sample_provided': False}}, 'file2': {'path': './baseball2.csv', 'row_count': 809, 'column_count': 17, 'metadata': {'file_path': './baseball2.csv', 'file_size_mb': 0.05, 'separator': ',', 'total_rows': 809, 'total_columns': 17, 'analyzed_rows': 809, 'analyzed_columns': 17, 'columns': {'Last': {'type': 'object', 'nulls': 0, 'null_percentage': np.float64(0.0), 'unique_count': 657, 'min_length': 3, 'max_length': 14, 'avg_length': 6.52, 'examples': ['Kennedy', 'Boggs', 'Moore', 'L Washington', 'Ashby']}, 'First': {'type': 'object', 'nulls': 0, 'null_percentage': np.float64(0.0), 'unique_count': 273, 'min_length': 1, 'max_length': 9, 'avg_length': 4.36, 'examples': ['Mike', 'Ray', 'Dennis', 'Charlie', 'Dave']}, 'Age': {'type': 'int64', 'nulls': 0, 'null_percentage': np.float64(0.0), 'unique_count': 24, 'min': np.int64(20), 'max': np.int64(45), 'mean': 27.98, 'median': 27.0, 'std': 4.37, 'examples': [31, 28, 33, 23, 38]}, 'G': {'type': 'int64', 'nulls': 0, 'null_percentage': np.float64(0.0), 'unique_count': 160, 'min': np.int64(1), 'max': np.int64(163), 'mean': 66.44, 'median': 56.0, 'std': 52.39, 'examples': [1, 5, 61, 151, 149]}, 'PA': {'type': 'int64', 'nulls': 0, 'null_percentage': np.float64(0.0), 'unique_count': 373, 'min': np.int64(0), 'max': np.int64(742), 'mean': 209.83, 'median': 102.0, 'std': 225.73, 'examples': [187, 700, 640, 208, 41]}, 'AB': {'type': 'int64', 'nulls': 0, 'null_percentage': np.float64(0.0), 'unique_count': 365, 'min': np.int64(0), 'max': np.int64(687), 'mean': 186.7, 'median': 91.0, 'std': 201.09, 'examples': [0, 379, 101, 0, 542]}, 'R': {'type': 'int64', 'nulls': 0, 'null_percentage': np.float64(0.0), 'unique_count': 103, 'min': np.int64(0), 'max': np.int64(130), 'mean': 24.22, 'median': 9.0, 'std': 29.46, 'examples': [0, 1, 45, 76, 82]}, 'H': {'type': 'int64', 'nulls': 0, 'null_percentage': np.float64(0.0), 'unique_count': 169, 'min': np.int64(0), 'max': np.int64(238), 'mean': 48.23, 'median': 20.0, 'std': 56.23, 'examples': [3, 41, 0, 0, 0]}, '2B': {'type': 'int64', 'nulls': 0, 'null_percentage': np.float64(0.0), 'unique_count': 44, 'min': np.int64(0), 'max': np.int64(53), 'mean': 8.52, 'median': 3.0, 'std': 10.57, 'examples': [1, 0, 0, 0, 0]}, '3B': {'type': 'int64', 'nulls': 0, 'null_percentage': np.float64(0.0), 'unique_count': 14, 'min': np.int64(0), 'max': np.int64(14), 'mean': 1.1, 'median': 0.0, 'std': 1.92, 'examples': [1, 1, 0, 0, 5], 'value_distribution': {'0': 60.94, '1': 13.6, '2': 8.65, '3': 5.81, '4': 4.2, '5': 2.35, '6': 1.85, '7': 1.61, '9': 0.25, '10': 0.25}}, 'HR': {'type': 'int64', 'nulls': 0, 'null_percentage': np.float64(0.0), 'unique_count': 37, 'min': np.int64(0), 'max': np.int64(40), 'mean': 5.01, 'median': 1.0, 'std': 7.89, 'examples': [0, 0, 1, 20, 0]}, 'RBI': {'type': 'int64', 'nulls': 0, 'null_percentage': np.float64(0.0), 'unique_count': 108, 'min': np.int64(0), 'max': np.int64(121), 'mean': 22.76, 'median': 8.0, 'std': 28.64, 'examples': [5, 0, 0, 31, 1]}, 'SB': {'type': 'int64', 'nulls': 0, 'null_percentage': np.float64(0.0), 'unique_count': 46, 'min': np.int64(0), 'max': np.int64(107), 'mean': 4.21, 'median': 0.0, 'std': 9.71, 'examples': [2, 8, 0, 0, 0]}, 'CS': {'type': 'int64', 'nulls': 0, 'null_percentage': np.float64(0.0), 'unique_count': 20, 'min': np.int64(0), 'max': np.int64(19), 'mean': 2.09, 'median': 0.0, 'std': 3.5, 'examples': [2, 0, 0, 0, 0]}, 'BB': {'type': 'int64', 'nulls': 0, 'null_percentage': np.float64(0.0), 'unique_count': 92, 'min': np.int64(0), 'max': np.int64(105), 'mean': 18.49, 'median': 7.0, 'std': 22.99, 'examples': [48, 22, 62, 0, 3]}, 'SO': {'type': 'int64', 'nulls': 0, 'null_percentage': np.float64(0.0), 'unique_count': 126, 'min': np.int64(0), 'max': np.int64(185), 'mean': 32.11, 'median': 20.0, 'std': 34.83, 'examples': [2, 8, 30, 11, 2]}, 'AVG': {'type': 'float64', 'nulls': 0, 'null_percentage': np.float64(0.0), 'unique_count': 531, 'min': np.float64(0.076923077), 'max': np.float64(172.3846154), 'mean': 48.44, 'median': 24.08, 'std': 51.11, 'examples': [88.69230769, 41.53846154, 4.615384615, 6.769230769, 19.69230769]}}, 'sample_provided': False}}, 'comparison': {'structural_changes': {'common_columns': ['G', 'Age', 'First', 'BB', 'AB', 'H', 'RBI', 'Last', '3B', '2B', 'CS', 'R', 'SB', 'SO', 'HR', 'PA'], 'only_in_file1': [], 'only_in_file2': ['AVG'], 'type_changes': {}, 'row_count_change': {'file1': 771, 'file2': 809, 'difference': 38, 'percent_change': 4.93}}, 'value_changes': {'G': {'mean_abs_diff': 0.0, 'max_abs_diff': 0.0, 'diff_count': 0, 'diff_percentage': 0.0}, 'Age': {'mean_abs_diff': 0.0, 'max_abs_diff': 0.0, 'diff_count': 0, 'diff_percentage': 0.0}, 'BB': {'mean_abs_diff': 0.0, 'max_abs_diff': 0.0, 'diff_count': 0, 'diff_percentage': 0.0}, 'AB': {'mean_abs_diff': 0.0, 'max_abs_diff': 0.0, 'diff_count': 0, 'diff_percentage': 0.0}, 'H': {'mean_abs_diff': 0.0, 'max_abs_diff': 0.0, 'diff_count': 0, 'diff_percentage': 0.0}, 'RBI': {'mean_abs_diff': 0.0, 'max_abs_diff': 0.0, 'diff_count': 0, 'diff_percentage': 0.0}, '3B': {'mean_abs_diff': 0.0, 'max_abs_diff': 0.0, 'diff_count': 0, 'diff_percentage': 0.0}, '2B': {'mean_abs_diff': 0.0, 'max_abs_diff': 0.0, 'diff_count': 0, 'diff_percentage': 0.0}, 'CS': {'mean_abs_diff': 0.0, 'max_abs_diff': 0.0, 'diff_count': 0, 'diff_percentage': 0.0}, 'R': {'mean_abs_diff': 0.0, 'max_abs_diff': 0.0, 'diff_count': 0, 'diff_percentage': 0.0}, 'SB': {'mean_abs_diff': 0.0, 'max_abs_diff': 0.0, 'diff_count': 0, 'diff_percentage': 0.0}, 'SO': {'mean_abs_diff': 0.0, 'max_abs_diff': 0.0, 'diff_count': 0, 'diff_percentage': 0.0}, 'HR': {'mean_abs_diff': 0.0, 'max_abs_diff': 0.0, 'diff_count': 0, 'diff_percentage': 0.0}, 'PA': {'mean_abs_diff': 0.0, 'max_abs_diff': 0.0, 'diff_count': 0, 'diff_percentage': 0.0}}}}\n"
     ]
    }
   ],
   "source": [
    "# Using compare() without LLM\n",
    "comparison_data = compare(\n",
    "    file1=\"./baseball.csv\",\n",
    "    file2=\"./baseball2.csv\",\n",
    "    use_llm=False\n",
    ")\n",
    "print(comparison_data)"
   ]
  },
  {
   "cell_type": "code",
   "execution_count": 17,
   "metadata": {},
   "outputs": [
    {
     "name": "stdout",
     "output_type": "stream",
     "text": [
      "Okay, I will analyze the provided baseball dataset metadata and provide a summary.\n",
      "\n",
      "**1. Overview**\n",
      "\n",
      "This dataset contains baseball player statistics, with 771 rows (representing individual players) and 16 columns (representing various statistics and personal information). The file size is relatively small at 0.04 MB. The data includes batting statistics such as At Bats (AB), Runs (R), Hits (H), Home Runs (HR), and Strikeouts (SO), as well as personal information like name and age.\n",
      "\n",
      "**2. Key Variables**\n",
      "\n",
      "*   **Last & First:** Player's last and first names. These are object (string) types with no missing values. The last names have a higher unique count (657) than first names (273), as expected.\n",
      "*   **Age:** Player's age, ranging from 20 to 45 years old, with an average age of approximately 28.\n",
      "*   **G:** Games played, ranging from 1 to 163.\n",
      "*   **PA:** Plate Appearances, ranging from 0 to 742.\n",
      "*   **AB:** At Bats, ranging from 0 to 687.\n",
      "*   **R:** Runs scored, ranging from 0 to 130.\n",
      "*   **H:** Hits, ranging from 0 to 238.\n",
      "*   **HR:** Home Runs, ranging from 0 to 40.\n",
      "*   **RBI:** Runs Batted In, ranging from 0 to 121.\n",
      "*   **SB:** Stolen Bases, ranging from 0 to 107.\n",
      "*   **SO:** Strikeouts, ranging from 0 to 185.\n",
      "\n",
      "**3. Data Quality**\n",
      "\n",
      "*   **Missing Values:** The metadata indicates that there are no missing values (nulls) in any of the columns.\n",
      "*   **Outliers:** Given the ranges of values for statistics like HR, RBI, SB, and SO, it's possible that some players have outlier values. Further analysis would be needed to confirm this. The large standard deviations for several variables (e.g., G, PA, AB, R, H, HR, RBI, SB, SO) suggest a wide range of performance among the players in the dataset.\n",
      "*   **Data Types:** All columns appear to have appropriate data types assigned.\n",
      "\n",
      "**4. Patterns & Insights**\n",
      "\n",
      "*   **Experience vs. Performance:** It would be interesting to analyze the relationship between Age and other performance metrics (e.g., HR, RBI, H). We could investigate if there's a peak performance age.\n",
      "*   **Stolen Base Attempts:** The data includes both Stolen Bases (SB) and Caught Stealing (CS). The ratio of SB to (SB + CS) could be calculated to determine a player's stolen base success rate.\n",
      "*   **Offensive Production:** Several variables (H, 2B, 3B, HR, RBI, R) are related to offensive production. These could be combined or analyzed together to create a more comprehensive offensive performance metric.\n",
      "*   **Strikeout Rate:** The ratio of Strikeouts (SO) to At Bats (AB) could be calculated to determine a player's strikeout rate.\n",
      "\n",
      "**5. Recommendations**\n",
      "\n",
      "*   **Explore Relationships:** Conduct correlation analysis to identify relationships between different variables. For example, explore the correlation between AB and H, or HR and RBI.\n",
      "*   **Outlier Analysis:** Investigate potential outliers in key performance metrics to understand if they represent exceptional players or data errors.\n",
      "*   **Feature Engineering:** Create new features from existing ones to gain further insights. Examples include:\n",
      "    *   Batting Average (H / AB)\n",
      "    *   On-Base Percentage (OBP)\n",
      "    *   Slugging Percentage (SLG)\n",
      "    *   Stolen Base Success Rate (SB / (SB + CS))\n",
      "*   **Data Visualization:** Use histograms, scatter plots, and box plots to visualize the distributions of variables and relationships between them.\n",
      "*   **Advanced Analytics:** Consider more advanced statistical techniques, such as regression analysis, to model and predict player performance.\n",
      "\n"
     ]
    }
   ],
   "source": [
    "result = summarize(\n",
    "    \"./baseball.csv\",\n",
    "    question=\"What insights can you provide about this dataset?\",\n",
    "    api_key=API_KEY,\n",
    "    provider=\"gemini\",\n",
    "    model='gemini-2.0-flash'\n",
    ")\n",
    "print(result)"
   ]
  },
  {
   "cell_type": "code",
   "execution_count": 11,
   "metadata": {},
   "outputs": [
    {
     "name": "stdout",
     "output_type": "stream",
     "text": [
      "{'file_path': './baseball.csv', 'file_size_mb': 0.04, 'separator': ',', 'total_rows': 771, 'total_columns': 16, 'analyzed_rows': 771, 'analyzed_columns': 16, 'columns': {'Last': {'type': 'object', 'nulls': 0, 'null_percentage': np.float64(0.0), 'unique_count': 657, 'min_length': 3, 'max_length': 14, 'avg_length': 6.52, 'examples': ['Griffin', 'Booker', 'McCullers', 'Barfield', 'Reuschel']}, 'First': {'type': 'object', 'nulls': 0, 'null_percentage': np.float64(0.0), 'unique_count': 273, 'min_length': 1, 'max_length': 9, 'avg_length': 4.35, 'examples': ['Tony', 'Juan', 'Floyd', 'Paul', 'Luis']}, 'Age': {'type': 'int64', 'nulls': 0, 'null_percentage': np.float64(0.0), 'unique_count': 24, 'min': np.int64(20), 'max': np.int64(45), 'mean': 27.98, 'median': 27.0, 'std': 4.37, 'examples': [26, 33, 31, 31, 39]}, 'G': {'type': 'int64', 'nulls': 0, 'null_percentage': np.float64(0.0), 'unique_count': 160, 'min': np.int64(1), 'max': np.int64(163), 'mean': 66.2, 'median': 56.0, 'std': 52.16, 'examples': [145, 93, 126, 132, 13]}, 'PA': {'type': 'int64', 'nulls': 0, 'null_percentage': np.float64(0.0), 'unique_count': 373, 'min': np.int64(0), 'max': np.int64(742), 'mean': 208.64, 'median': 101.0, 'std': 224.02, 'examples': [19, 299, 264, 562, 178]}, 'AB': {'type': 'int64', 'nulls': 0, 'null_percentage': np.float64(0.0), 'unique_count': 365, 'min': np.int64(0), 'max': np.int64(687), 'mean': 185.61, 'median': 90.0, 'std': 199.51, 'examples': [299, 399, 11, 5, 6]}, 'R': {'type': 'int64', 'nulls': 0, 'null_percentage': np.float64(0.0), 'unique_count': 103, 'min': np.int64(0), 'max': np.int64(130), 'mean': 24.05, 'median': 9.0, 'std': 29.16, 'examples': [98, 15, 57, 12, 1]}, 'H': {'type': 'int64', 'nulls': 0, 'null_percentage': np.float64(0.0), 'unique_count': 169, 'min': np.int64(0), 'max': np.int64(238), 'mean': 47.83, 'median': 19.0, 'std': 55.67, 'examples': [103, 0, 154, 118, 0]}, '2B': {'type': 'int64', 'nulls': 0, 'null_percentage': np.float64(0.0), 'unique_count': 44, 'min': np.int64(0), 'max': np.int64(53), 'mean': 8.44, 'median': 3.0, 'std': 10.46, 'examples': [0, 6, 0, 1, 3]}, '3B': {'type': 'int64', 'nulls': 0, 'null_percentage': np.float64(0.0), 'unique_count': 14, 'min': np.int64(0), 'max': np.int64(14), 'mean': 1.11, 'median': 0.0, 'std': 1.93, 'examples': [0, 0, 0, 0, 0], 'value_distribution': {'0': 60.57, '1': 13.88, '2': 8.56, '3': 5.97, '4': 4.15, '5': 2.33, '6': 1.82, '7': 1.69, '9': 0.26, '10': 0.26}}, 'HR': {'type': 'int64', 'nulls': 0, 'null_percentage': np.float64(0.0), 'unique_count': 37, 'min': np.int64(0), 'max': np.int64(40), 'mean': 4.95, 'median': 1.0, 'std': 7.72, 'examples': [16, 1, 4, 9, 0]}, 'RBI': {'type': 'int64', 'nulls': 0, 'null_percentage': np.float64(0.0), 'unique_count': 108, 'min': np.int64(0), 'max': np.int64(121), 'mean': 22.56, 'median': 8.0, 'std': 28.29, 'examples': [35, 32, 13, 1, 23]}, 'SB': {'type': 'int64', 'nulls': 0, 'null_percentage': np.float64(0.0), 'unique_count': 46, 'min': np.int64(0), 'max': np.int64(107), 'mean': 4.3, 'median': 0.0, 'std': 9.87, 'examples': [20, 0, 2, 2, 0]}, 'CS': {'type': 'int64', 'nulls': 0, 'null_percentage': np.float64(0.0), 'unique_count': 20, 'min': np.int64(0), 'max': np.int64(19), 'mean': 2.1, 'median': 0.0, 'std': 3.52, 'examples': [1, 0, 6, 0, 1]}, 'BB': {'type': 'int64', 'nulls': 0, 'null_percentage': np.float64(0.0), 'unique_count': 92, 'min': np.int64(0), 'max': np.int64(105), 'mean': 18.45, 'median': 7.0, 'std': 23.02, 'examples': [21, 15, 13, 13, 15]}, 'SO': {'type': 'int64', 'nulls': 0, 'null_percentage': np.float64(0.0), 'unique_count': 126, 'min': np.int64(0), 'max': np.int64(185), 'mean': 32.04, 'median': 20.0, 'std': 34.59, 'examples': [74, 2, 23, 59, 79]}}, 'sample_provided': False}\n"
     ]
    }
   ],
   "source": [
    "metadata = summarize(\n",
    "    file=\"./baseball.csv\",\n",
    "    use_llm=False\n",
    ")\n",
    "print(metadata)"
   ]
  }
 ],
 "metadata": {
  "kernelspec": {
   "display_name": "venv",
   "language": "python",
   "name": "python3"
  },
  "language_info": {
   "codemirror_mode": {
    "name": "ipython",
    "version": 3
   },
   "file_extension": ".py",
   "mimetype": "text/x-python",
   "name": "python",
   "nbconvert_exporter": "python",
   "pygments_lexer": "ipython3",
   "version": "3.11.4"
  }
 },
 "nbformat": 4,
 "nbformat_minor": 2
}
